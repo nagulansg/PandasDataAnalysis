{
 "cells": [
  {
   "cell_type": "code",
   "execution_count": 2,
   "id": "970a5402",
   "metadata": {},
   "outputs": [],
   "source": [
    "import pandas as pd\n",
    "import os"
   ]
  },
  {
   "cell_type": "markdown",
   "id": "257df6da",
   "metadata": {},
   "source": [
    "#### Merging 12 months of sales data into 1 file and making it into a csv file so we dont keep re-running"
   ]
  },
  {
   "cell_type": "code",
   "execution_count": 3,
   "id": "47395c3a",
   "metadata": {},
   "outputs": [
    {
     "data": {
      "text/plain": [
       "\"\\ndf = pd.read_csv('./Pandas-Data-Science-Tasks/SalesAnalysis/Sales_Data/Sales_April_2019.csv')\\n\\nfiles=[file for file in os.listdir('./Pandas-Data-Science-Tasks/SalesAnalysis/Sales_Data')]\\n\\ndflist=[]\\nfor file in files:\\n    df = pd.read_csv('./Pandas-Data-Science-Tasks/SalesAnalysis/Sales_Data/'+file)\\n    dflist.append(df)\\nalldata=pd.concat(dflist)\\nalldata.head()\\n\""
      ]
     },
     "execution_count": 3,
     "metadata": {},
     "output_type": "execute_result"
    }
   ],
   "source": [
    "\"\"\"\n",
    "df = pd.read_csv('./Pandas-Data-Science-Tasks/SalesAnalysis/Sales_Data/Sales_April_2019.csv')\n",
    "\n",
    "files=[file for file in os.listdir('./Pandas-Data-Science-Tasks/SalesAnalysis/Sales_Data')]\n",
    "\n",
    "dflist=[]\n",
    "for file in files:\n",
    "    df = pd.read_csv('./Pandas-Data-Science-Tasks/SalesAnalysis/Sales_Data/'+file)\n",
    "    dflist.append(df)\n",
    "alldata=pd.concat(dflist)\n",
    "alldata.head()\n",
    "\"\"\""
   ]
  },
  {
   "cell_type": "code",
   "execution_count": 4,
   "id": "a548fa8f",
   "metadata": {},
   "outputs": [],
   "source": [
    "#alldata.to_csv(\"alldata.csv\",index=False)"
   ]
  },
  {
   "cell_type": "code",
   "execution_count": 5,
   "id": "9c71b74a",
   "metadata": {},
   "outputs": [],
   "source": [
    "df=pd.read_csv('./alldata.csv')"
   ]
  },
  {
   "cell_type": "code",
   "execution_count": 6,
   "id": "5b7b65a3",
   "metadata": {},
   "outputs": [
    {
     "data": {
      "text/plain": [
       "Order ID            object\n",
       "Product             object\n",
       "Quantity Ordered    object\n",
       "Price Each          object\n",
       "Order Date          object\n",
       "Purchase Address    object\n",
       "dtype: object"
      ]
     },
     "execution_count": 6,
     "metadata": {},
     "output_type": "execute_result"
    }
   ],
   "source": [
    "df.dtypes"
   ]
  },
  {
   "cell_type": "markdown",
   "id": "c478b1cc",
   "metadata": {},
   "source": [
    "### Dropping NaN values because that is why everything is an object"
   ]
  },
  {
   "cell_type": "code",
   "execution_count": 7,
   "id": "70ade7f9",
   "metadata": {},
   "outputs": [
    {
     "data": {
      "text/html": [
       "<div>\n",
       "<style scoped>\n",
       "    .dataframe tbody tr th:only-of-type {\n",
       "        vertical-align: middle;\n",
       "    }\n",
       "\n",
       "    .dataframe tbody tr th {\n",
       "        vertical-align: top;\n",
       "    }\n",
       "\n",
       "    .dataframe thead th {\n",
       "        text-align: right;\n",
       "    }\n",
       "</style>\n",
       "<table border=\"1\" class=\"dataframe\">\n",
       "  <thead>\n",
       "    <tr style=\"text-align: right;\">\n",
       "      <th></th>\n",
       "      <th>Order ID</th>\n",
       "      <th>Product</th>\n",
       "      <th>Quantity Ordered</th>\n",
       "      <th>Price Each</th>\n",
       "      <th>Order Date</th>\n",
       "      <th>Purchase Address</th>\n",
       "    </tr>\n",
       "  </thead>\n",
       "  <tbody>\n",
       "  </tbody>\n",
       "</table>\n",
       "</div>"
      ],
      "text/plain": [
       "Empty DataFrame\n",
       "Columns: [Order ID, Product, Quantity Ordered, Price Each, Order Date, Purchase Address]\n",
       "Index: []"
      ]
     },
     "execution_count": 7,
     "metadata": {},
     "output_type": "execute_result"
    }
   ],
   "source": [
    "df.dropna(inplace=True)\n",
    "df[df.isna().any(1)]"
   ]
  },
  {
   "cell_type": "markdown",
   "id": "475b3386",
   "metadata": {},
   "source": [
    "### Below cell is to identify problem rows that do not let me change data types because of the 'Or' and then removing those rows"
   ]
  },
  {
   "cell_type": "code",
   "execution_count": 8,
   "id": "58f1c79b",
   "metadata": {},
   "outputs": [
    {
     "data": {
      "text/html": [
       "<div>\n",
       "<style scoped>\n",
       "    .dataframe tbody tr th:only-of-type {\n",
       "        vertical-align: middle;\n",
       "    }\n",
       "\n",
       "    .dataframe tbody tr th {\n",
       "        vertical-align: top;\n",
       "    }\n",
       "\n",
       "    .dataframe thead th {\n",
       "        text-align: right;\n",
       "    }\n",
       "</style>\n",
       "<table border=\"1\" class=\"dataframe\">\n",
       "  <thead>\n",
       "    <tr style=\"text-align: right;\">\n",
       "      <th></th>\n",
       "      <th>Order ID</th>\n",
       "      <th>Product</th>\n",
       "      <th>Quantity Ordered</th>\n",
       "      <th>Price Each</th>\n",
       "      <th>Order Date</th>\n",
       "      <th>Purchase Address</th>\n",
       "    </tr>\n",
       "  </thead>\n",
       "  <tbody>\n",
       "    <tr>\n",
       "      <th>519</th>\n",
       "      <td>Order ID</td>\n",
       "      <td>Product</td>\n",
       "      <td>Quantity Ordered</td>\n",
       "      <td>Price Each</td>\n",
       "      <td>Order Date</td>\n",
       "      <td>Purchase Address</td>\n",
       "    </tr>\n",
       "    <tr>\n",
       "      <th>1149</th>\n",
       "      <td>Order ID</td>\n",
       "      <td>Product</td>\n",
       "      <td>Quantity Ordered</td>\n",
       "      <td>Price Each</td>\n",
       "      <td>Order Date</td>\n",
       "      <td>Purchase Address</td>\n",
       "    </tr>\n",
       "    <tr>\n",
       "      <th>1155</th>\n",
       "      <td>Order ID</td>\n",
       "      <td>Product</td>\n",
       "      <td>Quantity Ordered</td>\n",
       "      <td>Price Each</td>\n",
       "      <td>Order Date</td>\n",
       "      <td>Purchase Address</td>\n",
       "    </tr>\n",
       "    <tr>\n",
       "      <th>2878</th>\n",
       "      <td>Order ID</td>\n",
       "      <td>Product</td>\n",
       "      <td>Quantity Ordered</td>\n",
       "      <td>Price Each</td>\n",
       "      <td>Order Date</td>\n",
       "      <td>Purchase Address</td>\n",
       "    </tr>\n",
       "    <tr>\n",
       "      <th>2893</th>\n",
       "      <td>Order ID</td>\n",
       "      <td>Product</td>\n",
       "      <td>Quantity Ordered</td>\n",
       "      <td>Price Each</td>\n",
       "      <td>Order Date</td>\n",
       "      <td>Purchase Address</td>\n",
       "    </tr>\n",
       "    <tr>\n",
       "      <th>...</th>\n",
       "      <td>...</td>\n",
       "      <td>...</td>\n",
       "      <td>...</td>\n",
       "      <td>...</td>\n",
       "      <td>...</td>\n",
       "      <td>...</td>\n",
       "    </tr>\n",
       "    <tr>\n",
       "      <th>185164</th>\n",
       "      <td>Order ID</td>\n",
       "      <td>Product</td>\n",
       "      <td>Quantity Ordered</td>\n",
       "      <td>Price Each</td>\n",
       "      <td>Order Date</td>\n",
       "      <td>Purchase Address</td>\n",
       "    </tr>\n",
       "    <tr>\n",
       "      <th>185551</th>\n",
       "      <td>Order ID</td>\n",
       "      <td>Product</td>\n",
       "      <td>Quantity Ordered</td>\n",
       "      <td>Price Each</td>\n",
       "      <td>Order Date</td>\n",
       "      <td>Purchase Address</td>\n",
       "    </tr>\n",
       "    <tr>\n",
       "      <th>186563</th>\n",
       "      <td>Order ID</td>\n",
       "      <td>Product</td>\n",
       "      <td>Quantity Ordered</td>\n",
       "      <td>Price Each</td>\n",
       "      <td>Order Date</td>\n",
       "      <td>Purchase Address</td>\n",
       "    </tr>\n",
       "    <tr>\n",
       "      <th>186632</th>\n",
       "      <td>Order ID</td>\n",
       "      <td>Product</td>\n",
       "      <td>Quantity Ordered</td>\n",
       "      <td>Price Each</td>\n",
       "      <td>Order Date</td>\n",
       "      <td>Purchase Address</td>\n",
       "    </tr>\n",
       "    <tr>\n",
       "      <th>186738</th>\n",
       "      <td>Order ID</td>\n",
       "      <td>Product</td>\n",
       "      <td>Quantity Ordered</td>\n",
       "      <td>Price Each</td>\n",
       "      <td>Order Date</td>\n",
       "      <td>Purchase Address</td>\n",
       "    </tr>\n",
       "  </tbody>\n",
       "</table>\n",
       "<p>355 rows × 6 columns</p>\n",
       "</div>"
      ],
      "text/plain": [
       "        Order ID  Product  Quantity Ordered  Price Each  Order Date  \\\n",
       "519     Order ID  Product  Quantity Ordered  Price Each  Order Date   \n",
       "1149    Order ID  Product  Quantity Ordered  Price Each  Order Date   \n",
       "1155    Order ID  Product  Quantity Ordered  Price Each  Order Date   \n",
       "2878    Order ID  Product  Quantity Ordered  Price Each  Order Date   \n",
       "2893    Order ID  Product  Quantity Ordered  Price Each  Order Date   \n",
       "...          ...      ...               ...         ...         ...   \n",
       "185164  Order ID  Product  Quantity Ordered  Price Each  Order Date   \n",
       "185551  Order ID  Product  Quantity Ordered  Price Each  Order Date   \n",
       "186563  Order ID  Product  Quantity Ordered  Price Each  Order Date   \n",
       "186632  Order ID  Product  Quantity Ordered  Price Each  Order Date   \n",
       "186738  Order ID  Product  Quantity Ordered  Price Each  Order Date   \n",
       "\n",
       "        Purchase Address  \n",
       "519     Purchase Address  \n",
       "1149    Purchase Address  \n",
       "1155    Purchase Address  \n",
       "2878    Purchase Address  \n",
       "2893    Purchase Address  \n",
       "...                  ...  \n",
       "185164  Purchase Address  \n",
       "185551  Purchase Address  \n",
       "186563  Purchase Address  \n",
       "186632  Purchase Address  \n",
       "186738  Purchase Address  \n",
       "\n",
       "[355 rows x 6 columns]"
      ]
     },
     "execution_count": 8,
     "metadata": {},
     "output_type": "execute_result"
    }
   ],
   "source": [
    "df[df[\"Quantity Ordered\"]==\"Quantity Ordered\"]"
   ]
  },
  {
   "cell_type": "code",
   "execution_count": 9,
   "id": "91c2b61e",
   "metadata": {},
   "outputs": [],
   "source": [
    "df=df[df[\"Quantity Ordered\"]!=\"Quantity Ordered\"]"
   ]
  },
  {
   "cell_type": "markdown",
   "id": "36a39ff7",
   "metadata": {},
   "source": [
    "#### reindexing the dataframe"
   ]
  },
  {
   "cell_type": "code",
   "execution_count": 10,
   "id": "e8fe6ac1",
   "metadata": {},
   "outputs": [],
   "source": [
    "df.reset_index(drop=True,inplace=True)"
   ]
  },
  {
   "cell_type": "markdown",
   "id": "0ce76dba",
   "metadata": {},
   "source": [
    "#### Add extra columns"
   ]
  },
  {
   "cell_type": "code",
   "execution_count": null,
   "id": "debb4bfd",
   "metadata": {},
   "outputs": [],
   "source": []
  },
  {
   "cell_type": "code",
   "execution_count": 11,
   "id": "bd38ee59",
   "metadata": {},
   "outputs": [
    {
     "data": {
      "text/plain": [
       "Order ID             object\n",
       "Product              object\n",
       "Quantity Ordered      int32\n",
       "Price Each          float64\n",
       "Order Date           object\n",
       "Purchase Address     object\n",
       "dtype: object"
      ]
     },
     "execution_count": 11,
     "metadata": {},
     "output_type": "execute_result"
    }
   ],
   "source": [
    "df=df.astype({\"Quantity Ordered\" : \"int32\",\"Price Each\":\"float64\"})\n",
    "#you can also use df[\"Quantity Ordered\"]=pd.to_numeric(df[\"Quantity Ordered\"])\n",
    "df.dtypes"
   ]
  },
  {
   "cell_type": "code",
   "execution_count": 12,
   "id": "7a38a072",
   "metadata": {},
   "outputs": [],
   "source": [
    "df[\"Sales\"] = df[\"Quantity Ordered\"]*df[\"Price Each\"]\n",
    "df[\"Month\"] = df[\"Order Date\"].str[0:2]\n",
    "df[\"Month\"]=pd.to_numeric(df[\"Month\"])"
   ]
  },
  {
   "cell_type": "markdown",
   "id": "4dead0a9",
   "metadata": {},
   "source": [
    "#### Question 1: Which was the best month for sales? How much was earned in that month?"
   ]
  },
  {
   "cell_type": "code",
   "execution_count": 13,
   "id": "9e441fe3",
   "metadata": {},
   "outputs": [],
   "source": [
    "months=list(range(1,13,1))\n",
    "#months\n",
    "monthlysales=[]\n",
    "for month in months:\n",
    "    x=df[df.loc[:,\"Month\"]==month][\"Sales\"].sum()\n",
    "    monthlysales.append(x)"
   ]
  },
  {
   "cell_type": "code",
   "execution_count": 14,
   "id": "63fc3993",
   "metadata": {},
   "outputs": [
    {
     "data": {
      "text/plain": [
       "[1822256.73,\n",
       " 2202022.42,\n",
       " 2807100.38,\n",
       " 3390670.2399999993,\n",
       " 3152606.7499999995,\n",
       " 2577802.26,\n",
       " 2647775.76,\n",
       " 2244467.88,\n",
       " 2097560.13,\n",
       " 3736726.8799999994,\n",
       " 3199603.1999999997,\n",
       " 4613443.34]"
      ]
     },
     "execution_count": 14,
     "metadata": {},
     "output_type": "execute_result"
    }
   ],
   "source": [
    "monthlysales"
   ]
  },
  {
   "cell_type": "code",
   "execution_count": 15,
   "id": "4891b9d0",
   "metadata": {},
   "outputs": [
    {
     "name": "stdout",
     "output_type": "stream",
     "text": [
      "12th month is the best month for sales.\n",
      "$4613443.34 was earned that month.\n"
     ]
    }
   ],
   "source": [
    "print(monthlysales.index(max(monthlysales))+1,\"th month is the best month for sales.\\n$\",max(monthlysales),\n",
    "      \" was earned that month.\",sep=\"\")"
   ]
  },
  {
   "cell_type": "markdown",
   "id": "8e7f5f0a",
   "metadata": {},
   "source": [
    "#### Alternatively you can group by category like SQL"
   ]
  },
  {
   "cell_type": "code",
   "execution_count": 16,
   "id": "14257c03",
   "metadata": {},
   "outputs": [],
   "source": [
    "monthly_sales=df.loc[:,[\"Sales\",\"Month\"]].groupby('Month').sum()"
   ]
  },
  {
   "cell_type": "code",
   "execution_count": 17,
   "id": "6c15ffb1",
   "metadata": {},
   "outputs": [],
   "source": [
    "import matplotlib.pyplot as plt\n",
    "from matplotlib.ticker import ScalarFormatter\n",
    "\n"
   ]
  },
  {
   "cell_type": "code",
   "execution_count": 18,
   "id": "f5a3c9db",
   "metadata": {},
   "outputs": [
    {
     "name": "stderr",
     "output_type": "stream",
     "text": [
      "C:\\Users\\nagul\\AppData\\Local\\Temp\\ipykernel_30832\\705336708.py:11: UserWarning: FixedFormatter should only be used together with FixedLocator\n",
      "  plt.gca().set_yticklabels(['{:.0f}'.format(x) for x in current_values])\n",
      "C:\\Users\\nagul\\AppData\\Local\\Temp\\ipykernel_30832\\705336708.py:14: UserWarning: FixedFormatter should only be used together with FixedLocator\n",
      "  plt.gca().set_yticklabels(['{:,.0f}'.format(x) for x in current_values])\n"
     ]
    },
    {
     "data": {
      "image/png": "[encoded data removed]",
      "text/plain": [
       "<Figure size 432x288 with 1 Axes>"
      ]
     },
     "metadata": {
      "needs_background": "light"
     },
     "output_type": "display_data"
    }
   ],
   "source": [
    "#plt.rcParams['axes.formatter.useoffset'] = False\n",
    "\n",
    "\n",
    "\n",
    "month=list(range(1,13,1))\n",
    "plt.bar(months,monthly_sales[\"Sales\"])\n",
    "\n",
    "current_values = plt.gca().get_yticks()\n",
    "# using format string '{:.0f}' here but you can choose others\n",
    "\n",
    "plt.gca().set_yticklabels(['{:.0f}'.format(x) for x in current_values])\n",
    "current_values = plt.gca().get_yticks()\n",
    "\n",
    "plt.gca().set_yticklabels(['{:,.0f}'.format(x) for x in current_values])\n",
    "\n",
    "plt.ylabel('Sales ($USD)')\n",
    "plt.xlabel('Month #')\n",
    "plt.title(\"Monthly sales\")\n",
    "\n",
    "#plt.get_yaxis().get_major_formatter().set_useOffset(False)\n",
    "\n",
    "plt.show()\n",
    "\n"
   ]
  },
  {
   "cell_type": "markdown",
   "id": "d064d0b3",
   "metadata": {},
   "source": [
    "#### Question 2: What city had the highest number of sales?"
   ]
  },
  {
   "cell_type": "markdown",
   "id": "241459cd",
   "metadata": {},
   "source": [
    "#### method1 is using usaddress library"
   ]
  },
  {
   "cell_type": "code",
   "execution_count": 19,
   "id": "b5a28620",
   "metadata": {},
   "outputs": [],
   "source": [
    "#pip install usaddress"
   ]
  },
  {
   "cell_type": "code",
   "execution_count": 20,
   "id": "0c1428bc",
   "metadata": {},
   "outputs": [],
   "source": [
    "import usaddress\n",
    "from collections import OrderedDict"
   ]
  },
  {
   "cell_type": "code",
   "execution_count": 21,
   "id": "6f205249",
   "metadata": {},
   "outputs": [
    {
     "data": {
      "text/plain": [
       "(OrderedDict([('AddressNumber', '682'),\n",
       "              ('StreetName', 'Chestnut'),\n",
       "              ('StreetNamePostType', 'St'),\n",
       "              ('PlaceName', 'Boston'),\n",
       "              ('StateName', 'MA'),\n",
       "              ('ZipCode', '02215')]),\n",
       " 'Street Address')"
      ]
     },
     "execution_count": 21,
     "metadata": {},
     "output_type": "execute_result"
    }
   ],
   "source": [
    "trialdic=usaddress.tag(df.loc[1,\"Purchase Address\"])\n",
    "trialdic"
   ]
  },
  {
   "cell_type": "code",
   "execution_count": 22,
   "id": "6e669965",
   "metadata": {},
   "outputs": [],
   "source": [
    "def cityName(address):\n",
    "    dic=usaddress.tag(address)\n",
    "    return dic[0].get('PlaceName')"
   ]
  },
  {
   "cell_type": "code",
   "execution_count": 23,
   "id": "6ee8a66c",
   "metadata": {},
   "outputs": [
    {
     "data": {
      "text/html": [
       "<div>\n",
       "<style scoped>\n",
       "    .dataframe tbody tr th:only-of-type {\n",
       "        vertical-align: middle;\n",
       "    }\n",
       "\n",
       "    .dataframe tbody tr th {\n",
       "        vertical-align: top;\n",
       "    }\n",
       "\n",
       "    .dataframe thead th {\n",
       "        text-align: right;\n",
       "    }\n",
       "</style>\n",
       "<table border=\"1\" class=\"dataframe\">\n",
       "  <thead>\n",
       "    <tr style=\"text-align: right;\">\n",
       "      <th></th>\n",
       "      <th>Order ID</th>\n",
       "      <th>Product</th>\n",
       "      <th>Quantity Ordered</th>\n",
       "      <th>Price Each</th>\n",
       "      <th>Order Date</th>\n",
       "      <th>Purchase Address</th>\n",
       "      <th>Sales</th>\n",
       "      <th>Month</th>\n",
       "      <th>City</th>\n",
       "    </tr>\n",
       "  </thead>\n",
       "  <tbody>\n",
       "    <tr>\n",
       "      <th>0</th>\n",
       "      <td>176558</td>\n",
       "      <td>USB-C Charging Cable</td>\n",
       "      <td>2</td>\n",
       "      <td>11.95</td>\n",
       "      <td>04/19/19 08:46</td>\n",
       "      <td>917 1st St, Dallas, TX 75001</td>\n",
       "      <td>23.90</td>\n",
       "      <td>4</td>\n",
       "      <td>Dallas</td>\n",
       "    </tr>\n",
       "    <tr>\n",
       "      <th>1</th>\n",
       "      <td>176559</td>\n",
       "      <td>Bose SoundSport Headphones</td>\n",
       "      <td>1</td>\n",
       "      <td>99.99</td>\n",
       "      <td>04/07/19 22:30</td>\n",
       "      <td>682 Chestnut St, Boston, MA 02215</td>\n",
       "      <td>99.99</td>\n",
       "      <td>4</td>\n",
       "      <td>Boston</td>\n",
       "    </tr>\n",
       "    <tr>\n",
       "      <th>2</th>\n",
       "      <td>176560</td>\n",
       "      <td>Google Phone</td>\n",
       "      <td>1</td>\n",
       "      <td>600.00</td>\n",
       "      <td>04/12/19 14:38</td>\n",
       "      <td>669 Spruce St, Los Angeles, CA 90001</td>\n",
       "      <td>600.00</td>\n",
       "      <td>4</td>\n",
       "      <td>Los Angeles</td>\n",
       "    </tr>\n",
       "    <tr>\n",
       "      <th>3</th>\n",
       "      <td>176560</td>\n",
       "      <td>Wired Headphones</td>\n",
       "      <td>1</td>\n",
       "      <td>11.99</td>\n",
       "      <td>04/12/19 14:38</td>\n",
       "      <td>669 Spruce St, Los Angeles, CA 90001</td>\n",
       "      <td>11.99</td>\n",
       "      <td>4</td>\n",
       "      <td>Los Angeles</td>\n",
       "    </tr>\n",
       "    <tr>\n",
       "      <th>4</th>\n",
       "      <td>176561</td>\n",
       "      <td>Wired Headphones</td>\n",
       "      <td>1</td>\n",
       "      <td>11.99</td>\n",
       "      <td>04/30/19 09:27</td>\n",
       "      <td>333 8th St, Los Angeles, CA 90001</td>\n",
       "      <td>11.99</td>\n",
       "      <td>4</td>\n",
       "      <td>Los Angeles</td>\n",
       "    </tr>\n",
       "  </tbody>\n",
       "</table>\n",
       "</div>"
      ],
      "text/plain": [
       "  Order ID                     Product  Quantity Ordered  Price Each  \\\n",
       "0   176558        USB-C Charging Cable                 2       11.95   \n",
       "1   176559  Bose SoundSport Headphones                 1       99.99   \n",
       "2   176560                Google Phone                 1      600.00   \n",
       "3   176560            Wired Headphones                 1       11.99   \n",
       "4   176561            Wired Headphones                 1       11.99   \n",
       "\n",
       "       Order Date                      Purchase Address   Sales  Month  \\\n",
       "0  04/19/19 08:46          917 1st St, Dallas, TX 75001   23.90      4   \n",
       "1  04/07/19 22:30     682 Chestnut St, Boston, MA 02215   99.99      4   \n",
       "2  04/12/19 14:38  669 Spruce St, Los Angeles, CA 90001  600.00      4   \n",
       "3  04/12/19 14:38  669 Spruce St, Los Angeles, CA 90001   11.99      4   \n",
       "4  04/30/19 09:27     333 8th St, Los Angeles, CA 90001   11.99      4   \n",
       "\n",
       "          City  \n",
       "0       Dallas  \n",
       "1       Boston  \n",
       "2  Los Angeles  \n",
       "3  Los Angeles  \n",
       "4  Los Angeles  "
      ]
     },
     "execution_count": 23,
     "metadata": {},
     "output_type": "execute_result"
    }
   ],
   "source": [
    "df['City']=df['Purchase Address'].apply(cityName)\n",
    "df.head()"
   ]
  },
  {
   "cell_type": "code",
   "execution_count": 24,
   "id": "2c64cfdb",
   "metadata": {},
   "outputs": [],
   "source": [
    "CitySales=df.loc[:,[\"City\",\"Sales\"]].groupby('City').sum()"
   ]
  },
  {
   "cell_type": "code",
   "execution_count": 25,
   "id": "d01fadf5",
   "metadata": {},
   "outputs": [
    {
     "data": {
      "text/html": [
       "<div>\n",
       "<style scoped>\n",
       "    .dataframe tbody tr th:only-of-type {\n",
       "        vertical-align: middle;\n",
       "    }\n",
       "\n",
       "    .dataframe tbody tr th {\n",
       "        vertical-align: top;\n",
       "    }\n",
       "\n",
       "    .dataframe thead th {\n",
       "        text-align: right;\n",
       "    }\n",
       "</style>\n",
       "<table border=\"1\" class=\"dataframe\">\n",
       "  <thead>\n",
       "    <tr style=\"text-align: right;\">\n",
       "      <th></th>\n",
       "      <th>Sales</th>\n",
       "    </tr>\n",
       "    <tr>\n",
       "      <th>City</th>\n",
       "      <th></th>\n",
       "    </tr>\n",
       "  </thead>\n",
       "  <tbody>\n",
       "    <tr>\n",
       "      <th>San Francisco</th>\n",
       "      <td>8262203.91</td>\n",
       "    </tr>\n",
       "  </tbody>\n",
       "</table>\n",
       "</div>"
      ],
      "text/plain": [
       "                    Sales\n",
       "City                     \n",
       "San Francisco  8262203.91"
      ]
     },
     "execution_count": 25,
     "metadata": {},
     "output_type": "execute_result"
    }
   ],
   "source": [
    "CitySales[CitySales[\"Sales\"]==max(CitySales[\"Sales\"])]"
   ]
  },
  {
   "cell_type": "markdown",
   "id": "f8da1d46",
   "metadata": {},
   "source": [
    "#### So clearly we can see San Francisco has the most sales. Now method2 for same task(we will just see how else to get city)"
   ]
  },
  {
   "cell_type": "code",
   "execution_count": 26,
   "id": "4d25a3bc",
   "metadata": {},
   "outputs": [
    {
     "data": {
      "text/html": [
       "<div>\n",
       "<style scoped>\n",
       "    .dataframe tbody tr th:only-of-type {\n",
       "        vertical-align: middle;\n",
       "    }\n",
       "\n",
       "    .dataframe tbody tr th {\n",
       "        vertical-align: top;\n",
       "    }\n",
       "\n",
       "    .dataframe thead th {\n",
       "        text-align: right;\n",
       "    }\n",
       "</style>\n",
       "<table border=\"1\" class=\"dataframe\">\n",
       "  <thead>\n",
       "    <tr style=\"text-align: right;\">\n",
       "      <th></th>\n",
       "      <th>Order ID</th>\n",
       "      <th>Product</th>\n",
       "      <th>Quantity Ordered</th>\n",
       "      <th>Price Each</th>\n",
       "      <th>Order Date</th>\n",
       "      <th>Purchase Address</th>\n",
       "      <th>Sales</th>\n",
       "      <th>Month</th>\n",
       "      <th>City</th>\n",
       "      <th>CityState</th>\n",
       "    </tr>\n",
       "  </thead>\n",
       "  <tbody>\n",
       "    <tr>\n",
       "      <th>0</th>\n",
       "      <td>176558</td>\n",
       "      <td>USB-C Charging Cable</td>\n",
       "      <td>2</td>\n",
       "      <td>11.95</td>\n",
       "      <td>04/19/19 08:46</td>\n",
       "      <td>917 1st St, Dallas, TX 75001</td>\n",
       "      <td>23.90</td>\n",
       "      <td>4</td>\n",
       "      <td>Dallas</td>\n",
       "      <td>Dallas, TX</td>\n",
       "    </tr>\n",
       "    <tr>\n",
       "      <th>1</th>\n",
       "      <td>176559</td>\n",
       "      <td>Bose SoundSport Headphones</td>\n",
       "      <td>1</td>\n",
       "      <td>99.99</td>\n",
       "      <td>04/07/19 22:30</td>\n",
       "      <td>682 Chestnut St, Boston, MA 02215</td>\n",
       "      <td>99.99</td>\n",
       "      <td>4</td>\n",
       "      <td>Boston</td>\n",
       "      <td>Boston, MA</td>\n",
       "    </tr>\n",
       "    <tr>\n",
       "      <th>2</th>\n",
       "      <td>176560</td>\n",
       "      <td>Google Phone</td>\n",
       "      <td>1</td>\n",
       "      <td>600.00</td>\n",
       "      <td>04/12/19 14:38</td>\n",
       "      <td>669 Spruce St, Los Angeles, CA 90001</td>\n",
       "      <td>600.00</td>\n",
       "      <td>4</td>\n",
       "      <td>Los Angeles</td>\n",
       "      <td>Los Angeles, CA</td>\n",
       "    </tr>\n",
       "    <tr>\n",
       "      <th>3</th>\n",
       "      <td>176560</td>\n",
       "      <td>Wired Headphones</td>\n",
       "      <td>1</td>\n",
       "      <td>11.99</td>\n",
       "      <td>04/12/19 14:38</td>\n",
       "      <td>669 Spruce St, Los Angeles, CA 90001</td>\n",
       "      <td>11.99</td>\n",
       "      <td>4</td>\n",
       "      <td>Los Angeles</td>\n",
       "      <td>Los Angeles, CA</td>\n",
       "    </tr>\n",
       "    <tr>\n",
       "      <th>4</th>\n",
       "      <td>176561</td>\n",
       "      <td>Wired Headphones</td>\n",
       "      <td>1</td>\n",
       "      <td>11.99</td>\n",
       "      <td>04/30/19 09:27</td>\n",
       "      <td>333 8th St, Los Angeles, CA 90001</td>\n",
       "      <td>11.99</td>\n",
       "      <td>4</td>\n",
       "      <td>Los Angeles</td>\n",
       "      <td>Los Angeles, CA</td>\n",
       "    </tr>\n",
       "  </tbody>\n",
       "</table>\n",
       "</div>"
      ],
      "text/plain": [
       "  Order ID                     Product  Quantity Ordered  Price Each  \\\n",
       "0   176558        USB-C Charging Cable                 2       11.95   \n",
       "1   176559  Bose SoundSport Headphones                 1       99.99   \n",
       "2   176560                Google Phone                 1      600.00   \n",
       "3   176560            Wired Headphones                 1       11.99   \n",
       "4   176561            Wired Headphones                 1       11.99   \n",
       "\n",
       "       Order Date                      Purchase Address   Sales  Month  \\\n",
       "0  04/19/19 08:46          917 1st St, Dallas, TX 75001   23.90      4   \n",
       "1  04/07/19 22:30     682 Chestnut St, Boston, MA 02215   99.99      4   \n",
       "2  04/12/19 14:38  669 Spruce St, Los Angeles, CA 90001  600.00      4   \n",
       "3  04/12/19 14:38  669 Spruce St, Los Angeles, CA 90001   11.99      4   \n",
       "4  04/30/19 09:27     333 8th St, Los Angeles, CA 90001   11.99      4   \n",
       "\n",
       "          City         CityState  \n",
       "0       Dallas        Dallas, TX  \n",
       "1       Boston        Boston, MA  \n",
       "2  Los Angeles   Los Angeles, CA  \n",
       "3  Los Angeles   Los Angeles, CA  \n",
       "4  Los Angeles   Los Angeles, CA  "
      ]
     },
     "execution_count": 26,
     "metadata": {},
     "output_type": "execute_result"
    }
   ],
   "source": [
    "#just splitting the string to retrieve data\n",
    "df[\"CityState\"]=df[\"Purchase Address\"].apply(lambda x: x.split(',')[1] + ', ' + x.split(' ')[-2])\n",
    "df.head()"
   ]
  },
  {
   "cell_type": "code",
   "execution_count": 27,
   "id": "29d8023c",
   "metadata": {},
   "outputs": [
    {
     "data": {
      "text/plain": [
       "CityState\n",
       " San Francisco, CA    8262203.91\n",
       "Name: Sales, dtype: float64"
      ]
     },
     "execution_count": 27,
     "metadata": {},
     "output_type": "execute_result"
    }
   ],
   "source": [
    "CitySales_2=df.groupby('CityState').sum()\n",
    "CitySales_2.loc[CitySales_2[\"Sales\"]==max(CitySales_2[\"Sales\"]),\"Sales\"]"
   ]
  },
  {
   "cell_type": "code",
   "execution_count": 28,
   "id": "aaabf61b",
   "metadata": {},
   "outputs": [
    {
     "name": "stderr",
     "output_type": "stream",
     "text": [
      "C:\\Users\\nagul\\AppData\\Local\\Temp\\ipykernel_30832\\2451539335.py:6: UserWarning: FixedFormatter should only be used together with FixedLocator\n",
      "  plt.gca().set_yticklabels(['{:.0f}'.format(x) for x in current_values])\n",
      "C:\\Users\\nagul\\AppData\\Local\\Temp\\ipykernel_30832\\2451539335.py:9: UserWarning: FixedFormatter should only be used together with FixedLocator\n",
      "  plt.gca().set_yticklabels(['{:,.0f}'.format(x) for x in current_values])\n"
     ]
    },
    {
     "data": {
      "image/png": "[encoded data removed]",
      "text/plain": [
       "<Figure size 432x288 with 1 Axes>"
      ]
     },
     "metadata": {
      "needs_background": "light"
     },
     "output_type": "display_data"
    }
   ],
   "source": [
    "\n",
    "plt.bar(CitySales_2.index,CitySales_2[\"Sales\"])\n",
    "\n",
    "current_values = plt.gca().get_yticks()\n",
    "# using format string '{:.0f}' here but you can choose others\n",
    "\n",
    "plt.gca().set_yticklabels(['{:.0f}'.format(x) for x in current_values])\n",
    "current_values = plt.gca().get_yticks()\n",
    "\n",
    "plt.gca().set_yticklabels(['{:,.0f}'.format(x) for x in current_values])\n",
    "ax=plt.gca()\n",
    "\n",
    "plt.xticks(CitySales_2.index,rotation='vertical')\n",
    "plt.ylabel('Sales ($USD)')\n",
    "plt.xlabel('Cities')\n",
    "plt.title(\"Sales by City\")\n",
    "\n",
    "plt.show()"
   ]
  },
  {
   "cell_type": "markdown",
   "id": "4311023f",
   "metadata": {},
   "source": [
    "#### Question 3: What time should we display advertisements to maximize likelihood of customer's buying product?"
   ]
  },
  {
   "cell_type": "code",
   "execution_count": 29,
   "id": "4c3ea672",
   "metadata": {},
   "outputs": [],
   "source": [
    "#manually specifying  pd.to_datetime(df['Order Date'], format='%m/%d/%y %H:%M') is much faster\n",
    "df[\"Order Date\"] = pd.to_datetime(df[\"Order Date\"])"
   ]
  },
  {
   "cell_type": "code",
   "execution_count": 30,
   "id": "c0d9419d",
   "metadata": {},
   "outputs": [
    {
     "data": {
      "text/html": [
       "<div>\n",
       "<style scoped>\n",
       "    .dataframe tbody tr th:only-of-type {\n",
       "        vertical-align: middle;\n",
       "    }\n",
       "\n",
       "    .dataframe tbody tr th {\n",
       "        vertical-align: top;\n",
       "    }\n",
       "\n",
       "    .dataframe thead th {\n",
       "        text-align: right;\n",
       "    }\n",
       "</style>\n",
       "<table border=\"1\" class=\"dataframe\">\n",
       "  <thead>\n",
       "    <tr style=\"text-align: right;\">\n",
       "      <th></th>\n",
       "      <th>Order ID</th>\n",
       "      <th>Product</th>\n",
       "      <th>Quantity Ordered</th>\n",
       "      <th>Price Each</th>\n",
       "      <th>Order Date</th>\n",
       "      <th>Purchase Address</th>\n",
       "      <th>Sales</th>\n",
       "      <th>Month</th>\n",
       "      <th>City</th>\n",
       "      <th>CityState</th>\n",
       "      <th>Hour</th>\n",
       "      <th>Minute</th>\n",
       "    </tr>\n",
       "  </thead>\n",
       "  <tbody>\n",
       "    <tr>\n",
       "      <th>0</th>\n",
       "      <td>176558</td>\n",
       "      <td>USB-C Charging Cable</td>\n",
       "      <td>2</td>\n",
       "      <td>11.95</td>\n",
       "      <td>2019-04-19 08:46:00</td>\n",
       "      <td>917 1st St, Dallas, TX 75001</td>\n",
       "      <td>23.90</td>\n",
       "      <td>4</td>\n",
       "      <td>Dallas</td>\n",
       "      <td>Dallas, TX</td>\n",
       "      <td>8</td>\n",
       "      <td>46</td>\n",
       "    </tr>\n",
       "    <tr>\n",
       "      <th>1</th>\n",
       "      <td>176559</td>\n",
       "      <td>Bose SoundSport Headphones</td>\n",
       "      <td>1</td>\n",
       "      <td>99.99</td>\n",
       "      <td>2019-04-07 22:30:00</td>\n",
       "      <td>682 Chestnut St, Boston, MA 02215</td>\n",
       "      <td>99.99</td>\n",
       "      <td>4</td>\n",
       "      <td>Boston</td>\n",
       "      <td>Boston, MA</td>\n",
       "      <td>22</td>\n",
       "      <td>30</td>\n",
       "    </tr>\n",
       "    <tr>\n",
       "      <th>2</th>\n",
       "      <td>176560</td>\n",
       "      <td>Google Phone</td>\n",
       "      <td>1</td>\n",
       "      <td>600.00</td>\n",
       "      <td>2019-04-12 14:38:00</td>\n",
       "      <td>669 Spruce St, Los Angeles, CA 90001</td>\n",
       "      <td>600.00</td>\n",
       "      <td>4</td>\n",
       "      <td>Los Angeles</td>\n",
       "      <td>Los Angeles, CA</td>\n",
       "      <td>14</td>\n",
       "      <td>38</td>\n",
       "    </tr>\n",
       "    <tr>\n",
       "      <th>3</th>\n",
       "      <td>176560</td>\n",
       "      <td>Wired Headphones</td>\n",
       "      <td>1</td>\n",
       "      <td>11.99</td>\n",
       "      <td>2019-04-12 14:38:00</td>\n",
       "      <td>669 Spruce St, Los Angeles, CA 90001</td>\n",
       "      <td>11.99</td>\n",
       "      <td>4</td>\n",
       "      <td>Los Angeles</td>\n",
       "      <td>Los Angeles, CA</td>\n",
       "      <td>14</td>\n",
       "      <td>38</td>\n",
       "    </tr>\n",
       "    <tr>\n",
       "      <th>4</th>\n",
       "      <td>176561</td>\n",
       "      <td>Wired Headphones</td>\n",
       "      <td>1</td>\n",
       "      <td>11.99</td>\n",
       "      <td>2019-04-30 09:27:00</td>\n",
       "      <td>333 8th St, Los Angeles, CA 90001</td>\n",
       "      <td>11.99</td>\n",
       "      <td>4</td>\n",
       "      <td>Los Angeles</td>\n",
       "      <td>Los Angeles, CA</td>\n",
       "      <td>9</td>\n",
       "      <td>27</td>\n",
       "    </tr>\n",
       "  </tbody>\n",
       "</table>\n",
       "</div>"
      ],
      "text/plain": [
       "  Order ID                     Product  Quantity Ordered  Price Each  \\\n",
       "0   176558        USB-C Charging Cable                 2       11.95   \n",
       "1   176559  Bose SoundSport Headphones                 1       99.99   \n",
       "2   176560                Google Phone                 1      600.00   \n",
       "3   176560            Wired Headphones                 1       11.99   \n",
       "4   176561            Wired Headphones                 1       11.99   \n",
       "\n",
       "           Order Date                      Purchase Address   Sales  Month  \\\n",
       "0 2019-04-19 08:46:00          917 1st St, Dallas, TX 75001   23.90      4   \n",
       "1 2019-04-07 22:30:00     682 Chestnut St, Boston, MA 02215   99.99      4   \n",
       "2 2019-04-12 14:38:00  669 Spruce St, Los Angeles, CA 90001  600.00      4   \n",
       "3 2019-04-12 14:38:00  669 Spruce St, Los Angeles, CA 90001   11.99      4   \n",
       "4 2019-04-30 09:27:00     333 8th St, Los Angeles, CA 90001   11.99      4   \n",
       "\n",
       "          City         CityState  Hour  Minute  \n",
       "0       Dallas        Dallas, TX     8      46  \n",
       "1       Boston        Boston, MA    22      30  \n",
       "2  Los Angeles   Los Angeles, CA    14      38  \n",
       "3  Los Angeles   Los Angeles, CA    14      38  \n",
       "4  Los Angeles   Los Angeles, CA     9      27  "
      ]
     },
     "execution_count": 30,
     "metadata": {},
     "output_type": "execute_result"
    }
   ],
   "source": [
    "#retrieved just the hour of a date and put it into a column\n",
    "df['Hour']=df['Order Date'].dt.hour\n",
    "df['Minute']=df['Order Date'].dt.minute\n",
    "df.head()"
   ]
  },
  {
   "cell_type": "code",
   "execution_count": 31,
   "id": "992f9800",
   "metadata": {},
   "outputs": [
    {
     "data": {
      "text/html": [
       "<div>\n",
       "<style scoped>\n",
       "    .dataframe tbody tr th:only-of-type {\n",
       "        vertical-align: middle;\n",
       "    }\n",
       "\n",
       "    .dataframe tbody tr th {\n",
       "        vertical-align: top;\n",
       "    }\n",
       "\n",
       "    .dataframe thead th {\n",
       "        text-align: right;\n",
       "    }\n",
       "</style>\n",
       "<table border=\"1\" class=\"dataframe\">\n",
       "  <thead>\n",
       "    <tr style=\"text-align: right;\">\n",
       "      <th></th>\n",
       "      <th>CountOfSales</th>\n",
       "    </tr>\n",
       "    <tr>\n",
       "      <th>Hour</th>\n",
       "      <th></th>\n",
       "    </tr>\n",
       "  </thead>\n",
       "  <tbody>\n",
       "    <tr>\n",
       "      <th>0</th>\n",
       "      <td>3910</td>\n",
       "    </tr>\n",
       "    <tr>\n",
       "      <th>1</th>\n",
       "      <td>2350</td>\n",
       "    </tr>\n",
       "    <tr>\n",
       "      <th>2</th>\n",
       "      <td>1243</td>\n",
       "    </tr>\n",
       "    <tr>\n",
       "      <th>3</th>\n",
       "      <td>831</td>\n",
       "    </tr>\n",
       "    <tr>\n",
       "      <th>4</th>\n",
       "      <td>854</td>\n",
       "    </tr>\n",
       "  </tbody>\n",
       "</table>\n",
       "</div>"
      ],
      "text/plain": [
       "      CountOfSales\n",
       "Hour              \n",
       "0             3910\n",
       "1             2350\n",
       "2             1243\n",
       "3              831\n",
       "4              854"
      ]
     },
     "execution_count": 31,
     "metadata": {},
     "output_type": "execute_result"
    }
   ],
   "source": [
    "#getting the number of transactions per hour\n",
    "hourly_data = df.loc[:,['Sales','Hour']].groupby('Hour').count()\n",
    "hourly_data = hourly_data.rename({'Sales': 'CountOfSales'}, axis=1)\n",
    "hourly_data.head()"
   ]
  },
  {
   "cell_type": "markdown",
   "id": "21cc0487",
   "metadata": {},
   "source": [
    "#### Below chart shows it may be good to advertise just before peak buying, so around 10am and 6pm"
   ]
  },
  {
   "cell_type": "code",
   "execution_count": 32,
   "id": "201d624e",
   "metadata": {},
   "outputs": [
    {
     "data": {
      "image/png": "[encoded data removed]",
      "text/plain": [
       "<Figure size 432x288 with 1 Axes>"
      ]
     },
     "metadata": {
      "needs_background": "light"
     },
     "output_type": "display_data"
    }
   ],
   "source": [
    "\n",
    "\n",
    "plt.plot(hourly_data.index,hourly_data['CountOfSales'])\n",
    "plt.xticks(hourly_data.index)\n",
    "plt.xlabel('Hour (24hr clock)')\n",
    "plt.ylabel('# of transactions')\n",
    "plt.grid()\n",
    "plt.title('Time at which purchases are made')\n",
    "plt.show()\n"
   ]
  },
  {
   "cell_type": "markdown",
   "id": "20999144",
   "metadata": {},
   "source": [
    "#### Question 4: Products often sold together?"
   ]
  },
  {
   "cell_type": "code",
   "execution_count": 33,
   "id": "d324ec94",
   "metadata": {},
   "outputs": [
    {
     "data": {
      "text/plain": [
       "Order ID\n",
       "141275    2\n",
       "141290    2\n",
       "141365    2\n",
       "141384    2\n",
       "141450    2\n",
       "         ..\n",
       "319536    2\n",
       "319556    2\n",
       "319584    2\n",
       "319596    2\n",
       "319631    2\n",
       "Name: Product, Length: 7136, dtype: int64"
      ]
     },
     "execution_count": 33,
     "metadata": {},
     "output_type": "execute_result"
    }
   ],
   "source": [
    "#likely a good approach to start by grouping with orderid\n",
    "#we can see there is obviously orders with more than 1 item\n",
    "df.groupby('Order ID').count()[\"Product\"][df.groupby('Order ID').count()[\"Product\"]>1]\n"
   ]
  },
  {
   "cell_type": "code",
   "execution_count": 34,
   "id": "f866d9ae",
   "metadata": {},
   "outputs": [
    {
     "data": {
      "text/plain": [
       "array(['USB-C Charging Cable', 'Bose SoundSport Headphones',\n",
       "       'Google Phone', 'Wired Headphones', 'Macbook Pro Laptop',\n",
       "       'Lightning Charging Cable', '27in 4K Gaming Monitor',\n",
       "       'AA Batteries (4-pack)', 'Apple Airpods Headphones',\n",
       "       'AAA Batteries (4-pack)', 'iPhone', 'Flatscreen TV',\n",
       "       '27in FHD Monitor', '20in Monitor', 'LG Dryer', 'ThinkPad Laptop',\n",
       "       'Vareebadd Phone', 'LG Washing Machine', '34in Ultrawide Monitor'],\n",
       "      dtype=object)"
      ]
     },
     "execution_count": 34,
     "metadata": {},
     "output_type": "execute_result"
    }
   ],
   "source": [
    "#types of products sold\n",
    "df.Product.unique()"
   ]
  },
  {
   "cell_type": "code",
   "execution_count": 48,
   "id": "0d850652",
   "metadata": {},
   "outputs": [],
   "source": [
    "#this below code is to only include orders that have more than one product, we then reset index\n",
    "dfd = df[df['Order ID'].duplicated(keep=False)]"
   ]
  },
  {
   "cell_type": "code",
   "execution_count": 49,
   "id": "33b71a1e",
   "metadata": {},
   "outputs": [
    {
     "name": "stderr",
     "output_type": "stream",
     "text": [
      "C:\\Users\\nagul\\AppData\\Local\\Temp\\ipykernel_30832\\2488396624.py:1: SettingWithCopyWarning: \n",
      "A value is trying to be set on a copy of a slice from a DataFrame.\n",
      "Try using .loc[row_indexer,col_indexer] = value instead\n",
      "\n",
      "See the caveats in the documentation: https://pandas.pydata.org/pandas-docs/stable/user_guide/indexing.html#returning-a-view-versus-a-copy\n",
      "  dfd['Grouped']=dfd.groupby('Order ID')['Product'].transform(lambda x: ','.join(x))\n"
     ]
    },
    {
     "data": {
      "text/html": [
       "<div>\n",
       "<style scoped>\n",
       "    .dataframe tbody tr th:only-of-type {\n",
       "        vertical-align: middle;\n",
       "    }\n",
       "\n",
       "    .dataframe tbody tr th {\n",
       "        vertical-align: top;\n",
       "    }\n",
       "\n",
       "    .dataframe thead th {\n",
       "        text-align: right;\n",
       "    }\n",
       "</style>\n",
       "<table border=\"1\" class=\"dataframe\">\n",
       "  <thead>\n",
       "    <tr style=\"text-align: right;\">\n",
       "      <th></th>\n",
       "      <th>Order ID</th>\n",
       "      <th>Grouped</th>\n",
       "    </tr>\n",
       "  </thead>\n",
       "  <tbody>\n",
       "    <tr>\n",
       "      <th>0</th>\n",
       "      <td>176560</td>\n",
       "      <td>Google Phone,Wired Headphones</td>\n",
       "    </tr>\n",
       "    <tr>\n",
       "      <th>1</th>\n",
       "      <td>176574</td>\n",
       "      <td>Google Phone,USB-C Charging Cable</td>\n",
       "    </tr>\n",
       "    <tr>\n",
       "      <th>2</th>\n",
       "      <td>176585</td>\n",
       "      <td>Bose SoundSport Headphones,Bose SoundSport Hea...</td>\n",
       "    </tr>\n",
       "    <tr>\n",
       "      <th>3</th>\n",
       "      <td>176586</td>\n",
       "      <td>AAA Batteries (4-pack),Google Phone</td>\n",
       "    </tr>\n",
       "    <tr>\n",
       "      <th>4</th>\n",
       "      <td>176672</td>\n",
       "      <td>Lightning Charging Cable,USB-C Charging Cable</td>\n",
       "    </tr>\n",
       "  </tbody>\n",
       "</table>\n",
       "</div>"
      ],
      "text/plain": [
       "  Order ID                                            Grouped\n",
       "0   176560                      Google Phone,Wired Headphones\n",
       "1   176574                  Google Phone,USB-C Charging Cable\n",
       "2   176585  Bose SoundSport Headphones,Bose SoundSport Hea...\n",
       "3   176586                AAA Batteries (4-pack),Google Phone\n",
       "4   176672      Lightning Charging Cable,USB-C Charging Cable"
      ]
     },
     "execution_count": 49,
     "metadata": {},
     "output_type": "execute_result"
    }
   ],
   "source": [
    "#group by order id and join the products, we then drop other columns as they will be inaccurate. \n",
    "#once we only have order id and grouped we can drop duplicates and reset index.\n",
    "dfd['Grouped']=dfd.groupby('Order ID')['Product'].transform(lambda x: ','.join(x))\n",
    "dfd=dfd[['Order ID','Grouped']].drop_duplicates()\n",
    "dfd.reset_index(drop=True,inplace=True)\n",
    "dfd.head()"
   ]
  },
  {
   "cell_type": "code",
   "execution_count": 93,
   "id": "5913f9ab",
   "metadata": {},
   "outputs": [
    {
     "data": {
      "text/plain": [
       "[(('iPhone', 'Lightning Charging Cable'), 1005),\n",
       " (('Google Phone', 'USB-C Charging Cable'), 987),\n",
       " (('iPhone', 'Wired Headphones'), 447),\n",
       " (('Google Phone', 'Wired Headphones'), 414),\n",
       " (('Vareebadd Phone', 'USB-C Charging Cable'), 361),\n",
       " (('iPhone', 'Apple Airpods Headphones'), 360),\n",
       " (('Google Phone', 'Bose SoundSport Headphones'), 220),\n",
       " (('USB-C Charging Cable', 'Wired Headphones'), 160),\n",
       " (('Vareebadd Phone', 'Wired Headphones'), 143),\n",
       " (('Lightning Charging Cable', 'Wired Headphones'), 92)]"
      ]
     },
     "execution_count": 93,
     "metadata": {},
     "output_type": "execute_result"
    }
   ],
   "source": [
    "# referenced from https://stackoverflow.com/questions/10844556/python-counting-frequency-of-pairs-of-elements-in-a-list-of-lists\n",
    "\n",
    "from itertools import combinations\n",
    "from collections import Counter\n",
    "\n",
    "count=Counter()\n",
    "\n",
    "for row in dfd['Grouped']:\n",
    "    row_list=row.split(',')\n",
    "\n",
    "    count.update(Counter(combinations(row_list,2)))\n",
    "    \n",
    "count.most_common(10)"
   ]
  },
  {
   "cell_type": "markdown",
   "id": "8d578f2e",
   "metadata": {},
   "source": [
    "#### What product sold the most?"
   ]
  },
  {
   "cell_type": "code",
   "execution_count": 98,
   "id": "cb8b2026",
   "metadata": {},
   "outputs": [
    {
     "data": {
      "text/plain": [
       "[('USB-C Charging Cable', 2111),\n",
       " ('iPhone', 1867),\n",
       " ('Lightning Charging Cable', 1827),\n",
       " ('Wired Headphones', 1674),\n",
       " ('Google Phone', 1639),\n",
       " ('Apple Airpods Headphones', 974),\n",
       " ('Bose SoundSport Headphones', 820),\n",
       " ('AAA Batteries (4-pack)', 815),\n",
       " ('AA Batteries (4-pack)', 768),\n",
       " ('Vareebadd Phone', 601)]"
      ]
     },
     "execution_count": 98,
     "metadata": {},
     "output_type": "execute_result"
    }
   ],
   "source": [
    "'''\n",
    "count_ind = Counter()\n",
    "for row in dfd['Grouped']:\n",
    "    row_list=row.split(',')\n",
    "\n",
    "    count_ind.update(Counter(row_list))\n",
    "    \n",
    "count_ind.most_common(10)\n",
    "'''"
   ]
  },
  {
   "cell_type": "code",
   "execution_count": 109,
   "id": "508e90cb",
   "metadata": {},
   "outputs": [],
   "source": [
    "product_group = df.groupby('Product')\n",
    "quantity_ordered=product_group.sum()"
   ]
  },
  {
   "cell_type": "code",
   "execution_count": 110,
   "id": "584fc61e",
   "metadata": {},
   "outputs": [
    {
     "data": {
      "text/html": [
       "<div>\n",
       "<style scoped>\n",
       "    .dataframe tbody tr th:only-of-type {\n",
       "        vertical-align: middle;\n",
       "    }\n",
       "\n",
       "    .dataframe tbody tr th {\n",
       "        vertical-align: top;\n",
       "    }\n",
       "\n",
       "    .dataframe thead th {\n",
       "        text-align: right;\n",
       "    }\n",
       "</style>\n",
       "<table border=\"1\" class=\"dataframe\">\n",
       "  <thead>\n",
       "    <tr style=\"text-align: right;\">\n",
       "      <th></th>\n",
       "      <th>Quantity Ordered</th>\n",
       "      <th>Price Each</th>\n",
       "      <th>Sales</th>\n",
       "      <th>Month</th>\n",
       "      <th>Hour</th>\n",
       "      <th>Minute</th>\n",
       "    </tr>\n",
       "    <tr>\n",
       "      <th>Product</th>\n",
       "      <th></th>\n",
       "      <th></th>\n",
       "      <th></th>\n",
       "      <th></th>\n",
       "      <th></th>\n",
       "      <th></th>\n",
       "    </tr>\n",
       "  </thead>\n",
       "  <tbody>\n",
       "    <tr>\n",
       "      <th>20in Monitor</th>\n",
       "      <td>4129</td>\n",
       "      <td>451068.99</td>\n",
       "      <td>454148.71</td>\n",
       "      <td>29336</td>\n",
       "      <td>58764</td>\n",
       "      <td>122252</td>\n",
       "    </tr>\n",
       "    <tr>\n",
       "      <th>27in 4K Gaming Monitor</th>\n",
       "      <td>6244</td>\n",
       "      <td>2429637.70</td>\n",
       "      <td>2435097.56</td>\n",
       "      <td>44440</td>\n",
       "      <td>90916</td>\n",
       "      <td>184331</td>\n",
       "    </tr>\n",
       "    <tr>\n",
       "      <th>27in FHD Monitor</th>\n",
       "      <td>7550</td>\n",
       "      <td>1125974.93</td>\n",
       "      <td>1132424.50</td>\n",
       "      <td>52558</td>\n",
       "      <td>107540</td>\n",
       "      <td>219948</td>\n",
       "    </tr>\n",
       "    <tr>\n",
       "      <th>34in Ultrawide Monitor</th>\n",
       "      <td>6199</td>\n",
       "      <td>2348718.19</td>\n",
       "      <td>2355558.01</td>\n",
       "      <td>43304</td>\n",
       "      <td>89076</td>\n",
       "      <td>183480</td>\n",
       "    </tr>\n",
       "    <tr>\n",
       "      <th>AA Batteries (4-pack)</th>\n",
       "      <td>27635</td>\n",
       "      <td>79015.68</td>\n",
       "      <td>106118.40</td>\n",
       "      <td>145558</td>\n",
       "      <td>298342</td>\n",
       "      <td>609039</td>\n",
       "    </tr>\n",
       "    <tr>\n",
       "      <th>AAA Batteries (4-pack)</th>\n",
       "      <td>31017</td>\n",
       "      <td>61716.59</td>\n",
       "      <td>92740.83</td>\n",
       "      <td>146370</td>\n",
       "      <td>297332</td>\n",
       "      <td>612113</td>\n",
       "    </tr>\n",
       "    <tr>\n",
       "      <th>Apple Airpods Headphones</th>\n",
       "      <td>15661</td>\n",
       "      <td>2332350.00</td>\n",
       "      <td>2349150.00</td>\n",
       "      <td>109477</td>\n",
       "      <td>223304</td>\n",
       "      <td>455570</td>\n",
       "    </tr>\n",
       "    <tr>\n",
       "      <th>Bose SoundSport Headphones</th>\n",
       "      <td>13457</td>\n",
       "      <td>1332366.75</td>\n",
       "      <td>1345565.43</td>\n",
       "      <td>94113</td>\n",
       "      <td>192445</td>\n",
       "      <td>392603</td>\n",
       "    </tr>\n",
       "    <tr>\n",
       "      <th>Flatscreen TV</th>\n",
       "      <td>4819</td>\n",
       "      <td>1440000.00</td>\n",
       "      <td>1445700.00</td>\n",
       "      <td>34224</td>\n",
       "      <td>68815</td>\n",
       "      <td>142789</td>\n",
       "    </tr>\n",
       "    <tr>\n",
       "      <th>Google Phone</th>\n",
       "      <td>5532</td>\n",
       "      <td>3315000.00</td>\n",
       "      <td>3319200.00</td>\n",
       "      <td>38305</td>\n",
       "      <td>79479</td>\n",
       "      <td>162773</td>\n",
       "    </tr>\n",
       "    <tr>\n",
       "      <th>LG Dryer</th>\n",
       "      <td>646</td>\n",
       "      <td>387600.00</td>\n",
       "      <td>387600.00</td>\n",
       "      <td>4383</td>\n",
       "      <td>9326</td>\n",
       "      <td>19043</td>\n",
       "    </tr>\n",
       "    <tr>\n",
       "      <th>LG Washing Machine</th>\n",
       "      <td>666</td>\n",
       "      <td>399600.00</td>\n",
       "      <td>399600.00</td>\n",
       "      <td>4523</td>\n",
       "      <td>9785</td>\n",
       "      <td>19462</td>\n",
       "    </tr>\n",
       "    <tr>\n",
       "      <th>Lightning Charging Cable</th>\n",
       "      <td>23217</td>\n",
       "      <td>323787.10</td>\n",
       "      <td>347094.15</td>\n",
       "      <td>153092</td>\n",
       "      <td>312529</td>\n",
       "      <td>634442</td>\n",
       "    </tr>\n",
       "    <tr>\n",
       "      <th>Macbook Pro Laptop</th>\n",
       "      <td>4728</td>\n",
       "      <td>8030800.00</td>\n",
       "      <td>8037600.00</td>\n",
       "      <td>33548</td>\n",
       "      <td>68261</td>\n",
       "      <td>137574</td>\n",
       "    </tr>\n",
       "    <tr>\n",
       "      <th>ThinkPad Laptop</th>\n",
       "      <td>4130</td>\n",
       "      <td>4127958.72</td>\n",
       "      <td>4129958.70</td>\n",
       "      <td>28950</td>\n",
       "      <td>59746</td>\n",
       "      <td>121508</td>\n",
       "    </tr>\n",
       "    <tr>\n",
       "      <th>USB-C Charging Cable</th>\n",
       "      <td>23975</td>\n",
       "      <td>261740.85</td>\n",
       "      <td>286501.25</td>\n",
       "      <td>154819</td>\n",
       "      <td>314645</td>\n",
       "      <td>647586</td>\n",
       "    </tr>\n",
       "    <tr>\n",
       "      <th>Vareebadd Phone</th>\n",
       "      <td>2068</td>\n",
       "      <td>826000.00</td>\n",
       "      <td>827200.00</td>\n",
       "      <td>14309</td>\n",
       "      <td>29472</td>\n",
       "      <td>61835</td>\n",
       "    </tr>\n",
       "    <tr>\n",
       "      <th>Wired Headphones</th>\n",
       "      <td>20557</td>\n",
       "      <td>226395.18</td>\n",
       "      <td>246478.43</td>\n",
       "      <td>133397</td>\n",
       "      <td>271720</td>\n",
       "      <td>554023</td>\n",
       "    </tr>\n",
       "    <tr>\n",
       "      <th>iPhone</th>\n",
       "      <td>6849</td>\n",
       "      <td>4789400.00</td>\n",
       "      <td>4794300.00</td>\n",
       "      <td>47941</td>\n",
       "      <td>98657</td>\n",
       "      <td>201688</td>\n",
       "    </tr>\n",
       "  </tbody>\n",
       "</table>\n",
       "</div>"
      ],
      "text/plain": [
       "                            Quantity Ordered  Price Each       Sales   Month  \\\n",
       "Product                                                                        \n",
       "20in Monitor                            4129   451068.99   454148.71   29336   \n",
       "27in 4K Gaming Monitor                  6244  2429637.70  2435097.56   44440   \n",
       "27in FHD Monitor                        7550  1125974.93  1132424.50   52558   \n",
       "34in Ultrawide Monitor                  6199  2348718.19  2355558.01   43304   \n",
       "AA Batteries (4-pack)                  27635    79015.68   106118.40  145558   \n",
       "AAA Batteries (4-pack)                 31017    61716.59    92740.83  146370   \n",
       "Apple Airpods Headphones               15661  2332350.00  2349150.00  109477   \n",
       "Bose SoundSport Headphones             13457  1332366.75  1345565.43   94113   \n",
       "Flatscreen TV                           4819  1440000.00  1445700.00   34224   \n",
       "Google Phone                            5532  3315000.00  3319200.00   38305   \n",
       "LG Dryer                                 646   387600.00   387600.00    4383   \n",
       "LG Washing Machine                       666   399600.00   399600.00    4523   \n",
       "Lightning Charging Cable               23217   323787.10   347094.15  153092   \n",
       "Macbook Pro Laptop                      4728  8030800.00  8037600.00   33548   \n",
       "ThinkPad Laptop                         4130  4127958.72  4129958.70   28950   \n",
       "USB-C Charging Cable                   23975   261740.85   286501.25  154819   \n",
       "Vareebadd Phone                         2068   826000.00   827200.00   14309   \n",
       "Wired Headphones                       20557   226395.18   246478.43  133397   \n",
       "iPhone                                  6849  4789400.00  4794300.00   47941   \n",
       "\n",
       "                              Hour  Minute  \n",
       "Product                                     \n",
       "20in Monitor                 58764  122252  \n",
       "27in 4K Gaming Monitor       90916  184331  \n",
       "27in FHD Monitor            107540  219948  \n",
       "34in Ultrawide Monitor       89076  183480  \n",
       "AA Batteries (4-pack)       298342  609039  \n",
       "AAA Batteries (4-pack)      297332  612113  \n",
       "Apple Airpods Headphones    223304  455570  \n",
       "Bose SoundSport Headphones  192445  392603  \n",
       "Flatscreen TV                68815  142789  \n",
       "Google Phone                 79479  162773  \n",
       "LG Dryer                      9326   19043  \n",
       "LG Washing Machine            9785   19462  \n",
       "Lightning Charging Cable    312529  634442  \n",
       "Macbook Pro Laptop           68261  137574  \n",
       "ThinkPad Laptop              59746  121508  \n",
       "USB-C Charging Cable        314645  647586  \n",
       "Vareebadd Phone              29472   61835  \n",
       "Wired Headphones            271720  554023  \n",
       "iPhone                       98657  201688  "
      ]
     },
     "execution_count": 110,
     "metadata": {},
     "output_type": "execute_result"
    }
   ],
   "source": [
    "quantity_ordered"
   ]
  },
  {
   "cell_type": "code",
   "execution_count": 113,
   "id": "a1f229b2",
   "metadata": {},
   "outputs": [
    {
     "data": {
      "image/png": "[encoded data removed]",
      "text/plain": [
       "<Figure size 432x288 with 1 Axes>"
      ]
     },
     "metadata": {
      "needs_background": "light"
     },
     "output_type": "display_data"
    }
   ],
   "source": [
    "plt.bar(quantity_ordered.index,quantity_ordered['Quantity Ordered'])\n",
    "plt.xticks(quantity_ordered.index,rotation='vertical')\n",
    "plt.ylabel('Quantity Ordered')\n",
    "plt.xlabel('Products')\n",
    "plt.title('Quantity of products sold')\n",
    "plt.order()\n",
    "plt.show()"
   ]
  },
  {
   "cell_type": "code",
   "execution_count": 131,
   "id": "eee2dbeb",
   "metadata": {},
   "outputs": [
    {
     "name": "stderr",
     "output_type": "stream",
     "text": [
      "C:\\Users\\nagul\\AppData\\Local\\Temp\\ipykernel_30832\\4258251226.py:14: UserWarning: FixedFormatter should only be used together with FixedLocator\n",
      "  ax1.set_xticklabels(quantity_ordered.index,rotation='vertical',size=8)\n"
     ]
    },
    {
     "data": {
      "image/png": "[encoded data removed]",
      "text/plain": [
       "<Figure size 432x288 with 2 Axes>"
      ]
     },
     "metadata": {
      "needs_background": "light"
     },
     "output_type": "display_data"
    }
   ],
   "source": [
    "prices = df.groupby('Product').mean()['Price Each']\n",
    "#print(prices)\n",
    "\n",
    "fig, ax1 = plt.subplots()\n",
    "ax2 = ax1.twinx()\n",
    "ax1.bar(quantity_ordered.index,quantity_ordered['Quantity Ordered'],color='b')\n",
    "ax2.plot(quantity_ordered.index,prices,'g-')\n",
    "#plt.xticks(quantity_ordered.index,rotation='vertical')\n",
    "\n",
    "ax1.set_xlabel('Products')\n",
    "\n",
    "ax1.set_ylabel('Quantity Ordered',color='b')\n",
    "ax2.set_ylabel('Price($)',color='g')\n",
    "ax1.set_xticklabels(quantity_ordered.index,rotation='vertical',size=8)\n",
    "plt.show()\n",
    "\n",
    "\n",
    "\n",
    "\n",
    "\n",
    "\n",
    "\n",
    "\n",
    "\n",
    "\n",
    "\n"
   ]
  },
  {
   "cell_type": "code",
   "execution_count": null,
   "id": "3eb51070",
   "metadata": {},
   "outputs": [],
   "source": []
  }
 ],
 "metadata": {
  "kernelspec": {
   "display_name": "Python 3 (ipykernel)",
   "language": "python",
   "name": "python3"
  },
  "language_info": {
   "codemirror_mode": {
    "name": "ipython",
    "version": 3
   },
   "file_extension": ".py",
   "mimetype": "text/x-python",
   "name": "python",
   "nbconvert_exporter": "python",
   "pygments_lexer": "ipython3",
   "version": "3.9.12"
  }
 },
 "nbformat": 4,
 "nbformat_minor": 5
}
